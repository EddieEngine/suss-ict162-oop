{
 "cells": [
  {
   "cell_type": "markdown",
   "metadata": {},
   "source": [
    "# Question 1"
   ]
  },
  {
   "cell_type": "code",
   "execution_count": 156,
   "metadata": {
    "collapsed": true
   },
   "outputs": [],
   "source": [
    "class Hole(object):\n",
    "    def __init__(self, _number: int, _par: int, _distance: int, _index: int):\n",
    "        self._number = _number\n",
    "        self._par = _par\n",
    "        self._distance = _distance\n",
    "        self._index = _index\n",
    "        \n",
    "    def getDuration(self):\n",
    "        setup_time = 0\n",
    "        play_time = 0\n",
    "        \n",
    "        # conditions for setup_time\n",
    "        if self._index <= 6:\n",
    "            setup_time = self._par * 180\n",
    "        elif self._index <= 12:\n",
    "            setup_time = self._par * 150\n",
    "        elif self._index <= 18:\n",
    "            setup_time = self._par * 120\n",
    "            \n",
    "        # conditions for play_time\n",
    "        if self._distance <= 100:\n",
    "            play_time = 60\n",
    "        elif self._distance <= 200:\n",
    "            play_time = 120\n",
    "        elif self._distance <= 300:\n",
    "            play_time = 180\n",
    "        elif self._distance <= 400:\n",
    "            play_time = 240\n",
    "        elif self._distance <= 500:\n",
    "            play_time = 300\n",
    "        elif self._distance > 500:\n",
    "            play_time = 360\n",
    "        \n",
    "        return setup_time + play_time\n",
    "        # print(setup_time + play_time, \"seconds\")\n",
    "    def __str__(self):\n",
    "        print(f'{self._number}  {self._par}   {self._index}   {self._distance}')\n",
    "        # print(f\"hole {self._number} with {self._par} number of strokes, difficulty level {self._index} and distance {self._distance}\")"
   ]
  },
  {
   "cell_type": "code",
   "execution_count": 157,
   "metadata": {
    "collapsed": true
   },
   "outputs": [],
   "source": [
    "hole_1 = Hole(_number=1, _par=4, _distance=332, _index=9)"
   ]
  },
  {
   "cell_type": "code",
   "execution_count": 158,
   "metadata": {},
   "outputs": [
    {
     "data": {
      "text/plain": [
       "840"
      ]
     },
     "execution_count": 158,
     "metadata": {},
     "output_type": "execute_result"
    }
   ],
   "source": [
    "hole_1.getDuration()"
   ]
  },
  {
   "cell_type": "code",
   "execution_count": 159,
   "metadata": {},
   "outputs": [
    {
     "data": {
      "text/plain": [
       "332"
      ]
     },
     "execution_count": 159,
     "metadata": {},
     "output_type": "execute_result"
    }
   ],
   "source": [
    "hole_1._distance"
   ]
  },
  {
   "cell_type": "code",
   "execution_count": 160,
   "metadata": {},
   "outputs": [
    {
     "name": "stdout",
     "output_type": "stream",
     "text": [
      "1  4   9   332\n"
     ]
    }
   ],
   "source": [
    "hole_1.__str__()"
   ]
  },
  {
   "cell_type": "markdown",
   "metadata": {},
   "source": [
    "### 1 (b)"
   ]
  },
  {
   "cell_type": "markdown",
   "metadata": {},
   "source": [
    "class Course(object):\n",
    "    def __init__(self, filename: str):\n",
    "        hole_count = 0\n",
    "        _holes = []\n",
    "        _totalPar = 0\n",
    "        \n",
    "        f = open(filename, 'r')\n",
    "        for line in f:\n",
    "            line = list(line.split(','))\n",
    "            line[2] = line[2].replace('\\n', '')\n",
    "            line = [int(i) for i in line]\n",
    "            \n",
    "            # creating a hole\n",
    "            hole_count += 1\n",
    "            hole_sample = Hole(_number = hole_count, _par=line[0], _distance=line[2], _index=line[1])     \n",
    "            _holes.append(hole_sample)\n",
    "            \n",
    "            # calculating total number of strokes (_totalPar)\n",
    "            _totalPar = _totalPar + line[0]\n",
    "            \n",
    "            \n",
    "        f.close()\n",
    "        \n",
    "        self._name = filename[0:-4]\n",
    "        self._holes = _holes\n",
    "        self._totalPar = _totalPar"
   ]
  },
  {
   "cell_type": "code",
   "execution_count": 32,
   "metadata": {
    "collapsed": true
   },
   "outputs": [],
   "source": [
    "augusta = Course('Augusta.txt')"
   ]
  },
  {
   "cell_type": "code",
   "execution_count": 33,
   "metadata": {},
   "outputs": [
    {
     "data": {
      "text/plain": [
       "'Augusta'"
      ]
     },
     "execution_count": 33,
     "metadata": {},
     "output_type": "execute_result"
    }
   ],
   "source": [
    "augusta._name"
   ]
  },
  {
   "cell_type": "code",
   "execution_count": 34,
   "metadata": {},
   "outputs": [
    {
     "data": {
      "text/plain": [
       "72"
      ]
     },
     "execution_count": 34,
     "metadata": {},
     "output_type": "execute_result"
    }
   ],
   "source": [
    "augusta._totalPar"
   ]
  },
  {
   "cell_type": "code",
   "execution_count": 41,
   "metadata": {},
   "outputs": [
    {
     "data": {
      "text/plain": [
       "435"
      ]
     },
     "execution_count": 41,
     "metadata": {},
     "output_type": "execute_result"
    }
   ],
   "source": [
    "augusta._holes[0]._distance"
   ]
  },
  {
   "cell_type": "code",
   "execution_count": null,
   "metadata": {
    "collapsed": true
   },
   "outputs": [],
   "source": []
  },
  {
   "cell_type": "code",
   "execution_count": 22,
   "metadata": {},
   "outputs": [
    {
     "name": "stdout",
     "output_type": "stream",
     "text": [
      "[4, 1, 435]\n",
      "[5, 13, 502]\n",
      "[5, 9, 495]\n",
      "[4, 3, 376]\n",
      "[4, 11, 388]\n",
      "[3, 15, 205]\n",
      "[4, 7, 368]\n",
      "[4, 5, 335]\n",
      "[3, 17, 188]\n",
      "[4, 18, 366]\n",
      "[4, 2, 405]\n",
      "[3, 16, 183]\n",
      "[4, 6, 392]\n",
      "[5, 12, 525]\n",
      "[3, 8, 212]\n",
      "[4, 14, 323]\n",
      "[4, 10, 379]\n",
      "[5, 4, 524]\n"
     ]
    }
   ],
   "source": [
    "f = open('Augusta.txt', 'r')\n",
    "\n",
    "for line in f:\n",
    "    \n",
    "    line = list(line.split(','))\n",
    "    line[2] = line[2].replace('\\n', '')\n",
    "    line = [int(i) for i in line]\n",
    "    print(line)\n",
    "    \n",
    "f.close()"
   ]
  },
  {
   "cell_type": "code",
   "execution_count": null,
   "metadata": {
    "collapsed": true
   },
   "outputs": [],
   "source": []
  },
  {
   "cell_type": "code",
   "execution_count": null,
   "metadata": {
    "collapsed": true
   },
   "outputs": [],
   "source": []
  },
  {
   "cell_type": "code",
   "execution_count": null,
   "metadata": {
    "collapsed": true
   },
   "outputs": [],
   "source": []
  },
  {
   "cell_type": "code",
   "execution_count": 216,
   "metadata": {},
   "outputs": [],
   "source": [
    "class Course(object):\n",
    "    \n",
    "    def __init__(self, filename: str):\n",
    "        _totalPar = 0\n",
    "        _holes = []\n",
    "        hole_count = 0\n",
    "        \n",
    "        f = open(filename, 'r')\n",
    "        for line in f:\n",
    "            line = list(line.split(','))\n",
    "            line[2] = line[2].replace('\\n', '')\n",
    "            line = [int(i) for i in line]\n",
    "            \n",
    "            # create a list of 18 holes\n",
    "            hole_count +=1\n",
    "            hole_sample = Hole(_number = hole_count, _par=line[0], _distance=line[2], _index=line[1])\n",
    "            _holes.append(hole_sample)\n",
    "            \n",
    "            # compute total number of strokes\n",
    "            _totalPar += int(line[0])\n",
    "        f.close()\n",
    "        \n",
    "        self._name = filename[:-4]\n",
    "        self._holes = _holes\n",
    "        self._totalPar = _totalPar\n",
    "    \n",
    "    @property\n",
    "    def name(self):\n",
    "        return self._name\n",
    "    \n",
    "    def getPlaySchedule(self, teeTime):\n",
    "        print(f'''\n",
    "Tee Off Time: {teeTime}                 \n",
    "Course: {self._name}         Total PAR: {self._totalPar}\n",
    "Hole    PAR    Index    Distance    Start    Finish\n",
    "        ''')\n",
    "        for i in range(len(self._holes)):\n",
    "            hole_sample = Hole(_number = i+1, _par=self._holes[i]._par, _distance=self._holes[i]._distance, _index=self._holes[i]._index)\n",
    "            arg_number = str(hole_sample._number)\n",
    "            arg_par = str(hole_sample._par)\n",
    "            arg_index = str(hole_sample._index)\n",
    "            arg_distance = str(hole_sample._distance)\n",
    "            print('',arg_number.ljust(2), '   ', arg_par.rjust(2), '    ', arg_index.rjust(2), '     ', arg_distance.rjust(4),'m')\n",
    "        \n",
    "    #def __str__(self):\n",
    "     #   return pass"
   ]
  },
  {
   "cell_type": "code",
   "execution_count": 217,
   "metadata": {},
   "outputs": [
    {
     "data": {
      "text/plain": [
       "'Augusta'"
      ]
     },
     "execution_count": 217,
     "metadata": {},
     "output_type": "execute_result"
    }
   ],
   "source": [
    "augusta = Course(\"Augusta.txt\")\n",
    "augusta._name"
   ]
  },
  {
   "cell_type": "code",
   "execution_count": 218,
   "metadata": {},
   "outputs": [
    {
     "data": {
      "text/plain": [
       "72"
      ]
     },
     "execution_count": 218,
     "metadata": {},
     "output_type": "execute_result"
    }
   ],
   "source": [
    "augusta._totalPar"
   ]
  },
  {
   "cell_type": "code",
   "execution_count": 219,
   "metadata": {},
   "outputs": [
    {
     "data": {
      "text/plain": [
       "<__main__.Hole at 0x234a4eab080>"
      ]
     },
     "execution_count": 219,
     "metadata": {},
     "output_type": "execute_result"
    }
   ],
   "source": [
    "augusta_hole_1 = augusta._holes[0]\n",
    "augusta_hole_1"
   ]
  },
  {
   "cell_type": "code",
   "execution_count": 220,
   "metadata": {},
   "outputs": [
    {
     "name": "stdout",
     "output_type": "stream",
     "text": [
      "\n",
      "Tee Off Time: 07:08                 \n",
      "Course: Augusta         Total PAR: 72\n",
      "Hole    PAR    Index    Distance    Start    Finish\n",
      "        \n",
      " 1       4       1        435 m\n",
      " 2       5      13        502 m\n",
      " 3       5       9        495 m\n",
      " 4       4       3        376 m\n",
      " 5       4      11        388 m\n",
      " 6       3      15        205 m\n",
      " 7       4       7        368 m\n",
      " 8       4       5        335 m\n",
      " 9       3      17        188 m\n",
      " 10      4      18        366 m\n",
      " 11      4       2        405 m\n",
      " 12      3      16        183 m\n",
      " 13      4       6        392 m\n",
      " 14      5      12        525 m\n",
      " 15      3       8        212 m\n",
      " 16      4      14        323 m\n",
      " 17      4      10        379 m\n",
      " 18      5       4        524 m\n"
     ]
    }
   ],
   "source": [
    "augusta.getPlaySchedule(\"07:08\")"
   ]
  },
  {
   "cell_type": "code",
   "execution_count": null,
   "metadata": {
    "collapsed": true
   },
   "outputs": [],
   "source": [
    "\n",
    "\n",
    "\n",
    "print('Hole    PAR    Index    Distance     Start    Finish')\n",
    "print()"
   ]
  },
  {
   "cell_type": "code",
   "execution_count": 86,
   "metadata": {},
   "outputs": [
    {
     "data": {
      "text/plain": [
       "0"
      ]
     },
     "execution_count": 86,
     "metadata": {},
     "output_type": "execute_result"
    }
   ],
   "source": [
    "ls = [7,2,7,8,5,7]\n",
    "ls.index(7)"
   ]
  },
  {
   "cell_type": "code",
   "execution_count": 168,
   "metadata": {},
   "outputs": [
    {
     "name": "stdout",
     "output_type": "stream",
     "text": [
      "one  one   one    one\n"
     ]
    }
   ],
   "source": [
    "given = 'one'\n",
    "\n",
    "print(given.rjust(2), given.rjust(4), given.rjust(5), given.rjust(6))"
   ]
  },
  {
   "cell_type": "code",
   "execution_count": null,
   "metadata": {
    "collapsed": true
   },
   "outputs": [],
   "source": []
  },
  {
   "cell_type": "code",
   "execution_count": null,
   "metadata": {
    "collapsed": true
   },
   "outputs": [],
   "source": []
  },
  {
   "cell_type": "code",
   "execution_count": null,
   "metadata": {
    "collapsed": true
   },
   "outputs": [],
   "source": []
  },
  {
   "cell_type": "code",
   "execution_count": null,
   "metadata": {
    "collapsed": true
   },
   "outputs": [],
   "source": []
  },
  {
   "cell_type": "code",
   "execution_count": null,
   "metadata": {
    "collapsed": true
   },
   "outputs": [],
   "source": []
  },
  {
   "cell_type": "code",
   "execution_count": null,
   "metadata": {
    "collapsed": true
   },
   "outputs": [],
   "source": []
  },
  {
   "cell_type": "code",
   "execution_count": null,
   "metadata": {
    "collapsed": true
   },
   "outputs": [],
   "source": []
  },
  {
   "cell_type": "code",
   "execution_count": null,
   "metadata": {
    "collapsed": true
   },
   "outputs": [],
   "source": []
  },
  {
   "cell_type": "code",
   "execution_count": null,
   "metadata": {
    "collapsed": true
   },
   "outputs": [],
   "source": []
  },
  {
   "cell_type": "code",
   "execution_count": null,
   "metadata": {},
   "outputs": [],
   "source": []
  },
  {
   "cell_type": "code",
   "execution_count": null,
   "metadata": {
    "collapsed": true
   },
   "outputs": [],
   "source": []
  },
  {
   "cell_type": "code",
   "execution_count": 183,
   "metadata": {},
   "outputs": [
    {
     "ename": "NameError",
     "evalue": "name 'actor' is not defined",
     "output_type": "error",
     "traceback": [
      "\u001b[1;31m---------------------------------------------------------------------------\u001b[0m",
      "\u001b[1;31mNameError\u001b[0m                                 Traceback (most recent call last)",
      "\u001b[1;32m<ipython-input-183-db4dc72b4918>\u001b[0m in \u001b[0;36m<module>\u001b[1;34m()\u001b[0m\n\u001b[1;32m----> 1\u001b[1;33m \u001b[0mactor\u001b[0m\u001b[1;33m\u001b[0m\u001b[0m\n\u001b[0m\u001b[0;32m      2\u001b[0m \u001b[0mactress\u001b[0m\u001b[1;33m\u001b[0m\u001b[0m\n\u001b[0;32m      3\u001b[0m \u001b[0mappear\u001b[0m\u001b[1;33m\u001b[0m\u001b[0m\n\u001b[0;32m      4\u001b[0m \u001b[0marea\u001b[0m\u001b[1;33m\u001b[0m\u001b[0m\n\u001b[0;32m      5\u001b[0m \u001b[0mbehind\u001b[0m\u001b[1;33m\u001b[0m\u001b[0m\n",
      "\u001b[1;31mNameError\u001b[0m: name 'actor' is not defined"
     ]
    }
   ],
   "source": [
    "actor\n",
    "actress\n",
    "appear\n",
    "area\n",
    "behind\n",
    "blow\n",
    "bridge\n",
    "build\n",
    "burn\n",
    "camera\n",
    "carry\n",
    "clinic\n",
    "collect\n",
    "container\n",
    "country\n",
    "curtain\n",
    "dove\n",
    "dream\n"
   ]
  },
  {
   "cell_type": "code",
   "execution_count": null,
   "metadata": {
    "collapsed": true
   },
   "outputs": [],
   "source": []
  }
 ],
 "metadata": {
  "kernelspec": {
   "display_name": "Python 3",
   "language": "python",
   "name": "python3"
  },
  "language_info": {
   "codemirror_mode": {
    "name": "ipython",
    "version": 3
   },
   "file_extension": ".py",
   "mimetype": "text/x-python",
   "name": "python",
   "nbconvert_exporter": "python",
   "pygments_lexer": "ipython3",
   "version": "3.6.3"
  }
 },
 "nbformat": 4,
 "nbformat_minor": 2
}
