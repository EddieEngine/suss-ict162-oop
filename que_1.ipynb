{
 "cells": [
  {
   "cell_type": "markdown",
   "metadata": {},
   "source": [
    "# Question 1"
   ]
  },
  {
   "cell_type": "markdown",
   "metadata": {},
   "source": [
    "#### 1(a)"
   ]
  },
  {
   "cell_type": "code",
   "execution_count": 1,
   "metadata": {
    "collapsed": true
   },
   "outputs": [],
   "source": [
    "class Hole(object):\n",
    "    def __init__(self, _number: int, _par: int, _distance: int, _index: int):\n",
    "        self._number = _number\n",
    "        self._par = _par\n",
    "        self._distance = _distance\n",
    "        self._index = _index\n",
    "        \n",
    "    def getDuration(self):\n",
    "        setup_time = 0\n",
    "        play_time = 0\n",
    "        \n",
    "        # conditions for setup_time\n",
    "        if self._index <= 6:\n",
    "            setup_time = self._par * 180\n",
    "        elif self._index <= 12:\n",
    "            setup_time = self._par * 150\n",
    "        elif self._index <= 18:\n",
    "            setup_time = self._par * 120\n",
    "            \n",
    "        # conditions for play_time\n",
    "        if self._distance <= 100:\n",
    "            play_time = 60\n",
    "        elif self._distance <= 200:\n",
    "            play_time = 120\n",
    "        elif self._distance <= 300:\n",
    "            play_time = 180\n",
    "        elif self._distance <= 400:\n",
    "            play_time = 240\n",
    "        elif self._distance <= 500:\n",
    "            play_time = 300\n",
    "        elif self._distance > 500:\n",
    "            play_time = 360\n",
    "        \n",
    "        return setup_time + play_time\n",
    "        # print(setup_time + play_time, \"seconds\")\n",
    "    def __str__(self):\n",
    "        print(f'{self._number}  {self._par}   {self._index}   {self._distance}')\n",
    "        # print(f\"hole {self._number} with {self._par} number of strokes, difficulty level {self._index} and distance {self._distance}\")"
   ]
  },
  {
   "cell_type": "code",
   "execution_count": 2,
   "metadata": {
    "collapsed": true
   },
   "outputs": [],
   "source": [
    "hole_1 = Hole(_number=1, _par=4, _distance=332, _index=9)"
   ]
  },
  {
   "cell_type": "code",
   "execution_count": 3,
   "metadata": {},
   "outputs": [
    {
     "data": {
      "text/plain": [
       "840"
      ]
     },
     "execution_count": 3,
     "metadata": {},
     "output_type": "execute_result"
    }
   ],
   "source": [
    "hole_1.getDuration()"
   ]
  },
  {
   "cell_type": "code",
   "execution_count": 4,
   "metadata": {},
   "outputs": [
    {
     "data": {
      "text/plain": [
       "332"
      ]
     },
     "execution_count": 4,
     "metadata": {},
     "output_type": "execute_result"
    }
   ],
   "source": [
    "hole_1._distance"
   ]
  },
  {
   "cell_type": "code",
   "execution_count": 5,
   "metadata": {},
   "outputs": [
    {
     "name": "stdout",
     "output_type": "stream",
     "text": [
      "1  4   9   332\n"
     ]
    }
   ],
   "source": [
    "hole_1.__str__()"
   ]
  },
  {
   "cell_type": "markdown",
   "metadata": {},
   "source": [
    "#### 1 (b)"
   ]
  },
  {
   "cell_type": "code",
   "execution_count": 51,
   "metadata": {
    "collapsed": true
   },
   "outputs": [],
   "source": [
    "from datetime import datetime\n",
    "from datetime import timedelta"
   ]
  },
  {
   "cell_type": "code",
   "execution_count": 112,
   "metadata": {},
   "outputs": [],
   "source": [
    "class Course(object):\n",
    "    \n",
    "    def __init__(self, filename: str):\n",
    "        _holes = []\n",
    "        hole_count = 0\n",
    "        _totalPar = 0\n",
    "        \n",
    "        f = open(filename, 'r')\n",
    "        for line in f:\n",
    "            line = list(line.split(','))\n",
    "            line[2] = line[2].replace('\\n', '')\n",
    "            line = [int(i) for i in line]\n",
    "            \n",
    "            # create a list of 18 holes\n",
    "            hole_count +=1\n",
    "            hole_sample = Hole(_number = hole_count, _par=line[0], _distance=line[2], _index=line[1])\n",
    "            _holes.append(hole_sample)\n",
    "            \n",
    "            # compute total number of strokes\n",
    "            _totalPar += int(line[0])\n",
    "        f.close()\n",
    "        \n",
    "        self._name = filename[:-4]\n",
    "        self._holes = _holes\n",
    "        self._totalPar = _totalPar\n",
    "    \n",
    "    @property\n",
    "    def name(self):\n",
    "        return self._name\n",
    "    \n",
    "    def getPlaySchedule(self, teeTime: str):\n",
    "        print(f'''\n",
    "Tee Off Time: {teeTime}                 \n",
    "Course: {self._name}         Total PAR: {self._totalPar}\n",
    "Hole    PAR    Index    Distance    Start    Finish\n",
    "        ''')\n",
    "        for i in range(len(self._holes)):\n",
    "            hole_sample = Hole(_number = i+1, _par=self._holes[i]._par, _distance=self._holes[i]._distance, _index=self._holes[i]._index)\n",
    "            \n",
    "            # getting the values for the instance variables for each hole created\n",
    "            arg_number = str(hole_sample._number)\n",
    "            arg_par = str(hole_sample._par)\n",
    "            arg_index = str(hole_sample._index)\n",
    "            arg_distance = str(hole_sample._distance)\n",
    "\n",
    "            # calculating the time to start and end time\n",
    "            \n",
    "            start_time = datetime.strptime(teeTime, \"%H:%M\")\n",
    "\n",
    "            if i > 0:                                 # for next minute of previous stop time\n",
    "                start_time = stop_time + timedelta(minutes = 1)\n",
    "            stop_time = start_time + timedelta(seconds = hole_sample.getDuration())\n",
    "\n",
    "            start_time_str = start_time.strftime('%H:%M')\n",
    "            stop_time_str = stop_time.strftime('%H:%M')\n",
    "\n",
    "            print(f\" {arg_number.ljust(2)}     {arg_par.rjust(2)}      {arg_index.rjust(2)}        {arg_distance.rjust(4)}m     {start_time_str}     {stop_time_str}\")\n",
    "        \n",
    "    def __str__(self):\n",
    "        print(f'''                 \n",
    "Course: {self._name}         Total PAR: {self._totalPar}\n",
    "Hole    PAR    Index    Distance\n",
    "        ''')\n",
    "        for i in range(len(self._holes)):\n",
    "            hole_sample = Hole(_number = i+1, _par=self._holes[i]._par, _distance=self._holes[i]._distance, _index=self._holes[i]._index)\n",
    "            \n",
    "            # getting the values for the instance variables for each hole created\n",
    "            arg_number = str(hole_sample._number)\n",
    "            arg_par = str(hole_sample._par)\n",
    "            arg_index = str(hole_sample._index)\n",
    "            arg_distance = str(hole_sample._distance)            \n",
    "\n",
    "            print(f\" {arg_number.ljust(2)}     {arg_par.rjust(2)}      {arg_index.rjust(2)}        {arg_distance.rjust(4)}m\")"
   ]
  },
  {
   "cell_type": "code",
   "execution_count": 113,
   "metadata": {},
   "outputs": [
    {
     "data": {
      "text/plain": [
       "'Pebble Bay'"
      ]
     },
     "execution_count": 113,
     "metadata": {},
     "output_type": "execute_result"
    }
   ],
   "source": [
    "pebbleBay = Course(\"Pebble Bay.txt\")\n",
    "pebbleBay._name"
   ]
  },
  {
   "cell_type": "code",
   "execution_count": 114,
   "metadata": {},
   "outputs": [
    {
     "data": {
      "text/plain": [
       "72"
      ]
     },
     "execution_count": 114,
     "metadata": {},
     "output_type": "execute_result"
    }
   ],
   "source": [
    "pebbleBay._totalPar"
   ]
  },
  {
   "cell_type": "code",
   "execution_count": 115,
   "metadata": {},
   "outputs": [
    {
     "data": {
      "text/plain": [
       "<__main__.Hole at 0x7f33426a6c40>"
      ]
     },
     "execution_count": 115,
     "metadata": {},
     "output_type": "execute_result"
    }
   ],
   "source": [
    "pebbleBay_hole_1 = pebbleBay._holes[0]\n",
    "pebbleBay_hole_1"
   ]
  },
  {
   "cell_type": "code",
   "execution_count": 116,
   "metadata": {},
   "outputs": [
    {
     "data": {
      "text/plain": [
       "840"
      ]
     },
     "execution_count": 116,
     "metadata": {},
     "output_type": "execute_result"
    }
   ],
   "source": [
    "pebbleBay_hole_1.getDuration()"
   ]
  },
  {
   "cell_type": "code",
   "execution_count": 117,
   "metadata": {},
   "outputs": [
    {
     "name": "stdout",
     "output_type": "stream",
     "text": [
      "\n",
      "Tee Off Time: 07:08                 \n",
      "Course: Pebble Bay         Total PAR: 72\n",
      "Hole    PAR    Index    Distance    Start    Finish\n",
      "        \n",
      " 1       4       9         332m     07:08     07:22\n",
      " 2       3      18         162m     07:23     07:31\n",
      " 3       4       1         433m     07:32     07:49\n",
      " 4       4      13         270m     07:50     08:01\n",
      " 5       3      11         123m     08:02     08:11\n",
      " 6       5      15         470m     08:12     08:27\n",
      " 7       4       7         376m     08:28     08:42\n",
      " 8       4       5         394m     08:43     08:59\n",
      " 9       5       3         556m     09:00     09:21\n",
      " 10      5       2         558m     09:22     09:43\n",
      " 11      4       8         392m     09:44     09:58\n",
      " 12      4      12         290m     09:59     10:12\n",
      " 13      4      16         344m     10:13     10:25\n",
      " 14      3      18         150m     10:26     10:34\n",
      " 15      4       6         424m     10:35     10:52\n",
      " 16      4       4         463m     10:53     11:10\n",
      " 17      3      14         208m     11:11     11:20\n",
      " 18      5      10         503m     11:21     11:40\n"
     ]
    }
   ],
   "source": [
    "pebbleBay.getPlaySchedule(\"07:08\")"
   ]
  },
  {
   "cell_type": "code",
   "execution_count": 118,
   "metadata": {},
   "outputs": [
    {
     "name": "stdout",
     "output_type": "stream",
     "text": [
      "                 \n",
      "Course: Pebble Bay         Total PAR: 72\n",
      "Hole    PAR    Index    Distance\n",
      "        \n",
      " 1       4       9         332m\n",
      " 2       3      18         162m\n",
      " 3       4       1         433m\n",
      " 4       4      13         270m\n",
      " 5       3      11         123m\n",
      " 6       5      15         470m\n",
      " 7       4       7         376m\n",
      " 8       4       5         394m\n",
      " 9       5       3         556m\n",
      " 10      5       2         558m\n",
      " 11      4       8         392m\n",
      " 12      4      12         290m\n",
      " 13      4      16         344m\n",
      " 14      3      18         150m\n",
      " 15      4       6         424m\n",
      " 16      4       4         463m\n",
      " 17      3      14         208m\n",
      " 18      5      10         503m\n"
     ]
    }
   ],
   "source": [
    "pebbleBay.__str__()"
   ]
  },
  {
   "cell_type": "markdown",
   "metadata": {},
   "source": [
    "#### 1(c)"
   ]
  },
  {
   "cell_type": "code",
   "execution_count": 119,
   "metadata": {},
   "outputs": [],
   "source": [
    "def main():\n",
    "    laguna = Course(\"Laguna.txt\")\n",
    "    laguna.getPlaySchedule(\"07:08\")\n",
    "    laguna.getPlaySchedule(\"09:18\")\n",
    "\n",
    "    augusta = Course(\"Augusta.txt\")\n",
    "    augusta.getPlaySchedule(\"07:08\")\n",
    "    augusta.getPlaySchedule(\"09:18\")\n",
    "\n"
   ]
  },
  {
   "cell_type": "code",
   "execution_count": 120,
   "metadata": {},
   "outputs": [
    {
     "name": "stdout",
     "output_type": "stream",
     "text": [
      "\n",
      "Tee Off Time: 07:08                 \n",
      "Course: Laguna         Total PAR: 72\n",
      "Hole    PAR    Index    Distance    Start    Finish\n",
      "        \n",
      " 1       4       6         332m     07:08     07:24\n",
      " 2       4      18         307m     07:25     07:37\n",
      " 3       3      16         156m     07:38     07:46\n",
      " 4       4      10         374m     07:47     08:01\n",
      " 5       5       8         506m     08:02     08:20\n",
      " 6       4       4         367m     08:21     08:37\n",
      " 7       5      14         430m     08:38     08:53\n",
      " 8       3      12         184m     08:54     09:04\n",
      " 9       4       2         420m     09:05     09:22\n",
      " 10      4       5         405m     09:23     09:40\n",
      " 11      5       9         517m     09:41     09:59\n",
      " 12      4       1         412m     10:00     10:17\n",
      " 13      3      15         141m     10:18     10:26\n",
      " 14      4      17         277m     10:27     10:38\n",
      " 15      5      11         521m     10:39     10:58\n",
      " 16      4       3         435m     10:59     11:16\n",
      " 17      3      13         167m     11:17     11:25\n",
      " 18      4       7         343m     11:26     11:40\n",
      "\n",
      "Tee Off Time: 09:18                 \n",
      "Course: Laguna         Total PAR: 72\n",
      "Hole    PAR    Index    Distance    Start    Finish\n",
      "        \n",
      " 1       4       6         332m     09:18     09:34\n",
      " 2       4      18         307m     09:35     09:47\n",
      " 3       3      16         156m     09:48     09:56\n",
      " 4       4      10         374m     09:57     10:11\n",
      " 5       5       8         506m     10:12     10:30\n",
      " 6       4       4         367m     10:31     10:47\n",
      " 7       5      14         430m     10:48     11:03\n",
      " 8       3      12         184m     11:04     11:14\n",
      " 9       4       2         420m     11:15     11:32\n",
      " 10      4       5         405m     11:33     11:50\n",
      " 11      5       9         517m     11:51     12:09\n",
      " 12      4       1         412m     12:10     12:27\n",
      " 13      3      15         141m     12:28     12:36\n",
      " 14      4      17         277m     12:37     12:48\n",
      " 15      5      11         521m     12:49     13:08\n",
      " 16      4       3         435m     13:09     13:26\n",
      " 17      3      13         167m     13:27     13:35\n",
      " 18      4       7         343m     13:36     13:50\n",
      "\n",
      "Tee Off Time: 07:08                 \n",
      "Course: Augusta         Total PAR: 72\n",
      "Hole    PAR    Index    Distance    Start    Finish\n",
      "        \n",
      " 1       4       1         435m     07:08     07:25\n",
      " 2       5      13         502m     07:26     07:42\n",
      " 3       5       9         495m     07:43     08:00\n",
      " 4       4       3         376m     08:01     08:17\n",
      " 5       4      11         388m     08:18     08:32\n",
      " 6       3      15         205m     08:33     08:42\n",
      " 7       4       7         368m     08:43     08:57\n",
      " 8       4       5         335m     08:58     09:14\n",
      " 9       3      17         188m     09:15     09:23\n",
      " 10      4      18         366m     09:24     09:36\n",
      " 11      4       2         405m     09:37     09:54\n",
      " 12      3      16         183m     09:55     10:03\n",
      " 13      4       6         392m     10:04     10:20\n",
      " 14      5      12         525m     10:21     10:40\n",
      " 15      3       8         212m     10:41     10:51\n",
      " 16      4      14         323m     10:52     11:04\n",
      " 17      4      10         379m     11:05     11:19\n",
      " 18      5       4         524m     11:20     11:41\n",
      "\n",
      "Tee Off Time: 09:18                 \n",
      "Course: Augusta         Total PAR: 72\n",
      "Hole    PAR    Index    Distance    Start    Finish\n",
      "        \n",
      " 1       4       1         435m     09:18     09:35\n",
      " 2       5      13         502m     09:36     09:52\n",
      " 3       5       9         495m     09:53     10:10\n",
      " 4       4       3         376m     10:11     10:27\n",
      " 5       4      11         388m     10:28     10:42\n",
      " 6       3      15         205m     10:43     10:52\n",
      " 7       4       7         368m     10:53     11:07\n",
      " 8       4       5         335m     11:08     11:24\n",
      " 9       3      17         188m     11:25     11:33\n",
      " 10      4      18         366m     11:34     11:46\n",
      " 11      4       2         405m     11:47     12:04\n",
      " 12      3      16         183m     12:05     12:13\n",
      " 13      4       6         392m     12:14     12:30\n",
      " 14      5      12         525m     12:31     12:50\n",
      " 15      3       8         212m     12:51     13:01\n",
      " 16      4      14         323m     13:02     13:14\n",
      " 17      4      10         379m     13:15     13:29\n",
      " 18      5       4         524m     13:30     13:51\n"
     ]
    }
   ],
   "source": [
    "main()"
   ]
  },
  {
   "cell_type": "markdown",
   "metadata": {},
   "source": [
    "# Question 2"
   ]
  },
  {
   "cell_type": "code",
   "execution_count": null,
   "metadata": {},
   "outputs": [],
   "source": []
  }
 ],
 "metadata": {
  "interpreter": {
   "hash": "110cc1dee26208153f2972f08a2ad52b6a56238dc66d48e87fb757ef2996db56"
  },
  "kernelspec": {
   "display_name": "Python 3.8.13 64-bit ('3.8.13')",
   "language": "python",
   "name": "python3"
  },
  "language_info": {
   "codemirror_mode": {
    "name": "ipython",
    "version": 3
   },
   "file_extension": ".py",
   "mimetype": "text/x-python",
   "name": "python",
   "nbconvert_exporter": "python",
   "pygments_lexer": "ipython3",
   "version": "3.8.13"
  }
 },
 "nbformat": 4,
 "nbformat_minor": 2
}
